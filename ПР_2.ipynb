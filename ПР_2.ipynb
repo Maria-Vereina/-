{
  "nbformat": 4,
  "nbformat_minor": 0,
  "metadata": {
    "colab": {
      "name": "ПР 2.ipynb",
      "provenance": [],
      "authorship_tag": "ABX9TyMjgF63HKnHHsgiIB2Pciwn",
      "include_colab_link": true
    },
    "kernelspec": {
      "name": "python3",
      "display_name": "Python 3"
    },
    "language_info": {
      "name": "python"
    }
  },
  "cells": [
    {
      "cell_type": "markdown",
      "metadata": {
        "id": "view-in-github",
        "colab_type": "text"
      },
      "source": [
        "<a href=\"https://colab.research.google.com/github/Maria-Vereina/pract/blob/main/%D0%9F%D0%A0_2.ipynb\" target=\"_parent\"><img src=\"https://colab.research.google.com/assets/colab-badge.svg\" alt=\"Open In Colab\"/></a>"
      ]
    },
    {
      "cell_type": "code",
      "metadata": {
        "id": "wXB4GYSNbknR"
      },
      "source": [
        "class Rectangle:\n",
        "    def __init__(self, w = 0.5,h = 1):\n",
        "        self.width = w\n",
        "        self.height = h\n",
        "    def square(self):\n",
        "        return self.width * self.height\n",
        "\n",
        "rec1 = Rectangle(5,2)\n",
        "rec2 = Rectangle()\n",
        "rec3 = Rectangle(3)\n",
        "rec4 = Rectangle(h = 4)"
      ],
      "execution_count": null,
      "outputs": []
    },
    {
      "cell_type": "code",
      "metadata": {
        "colab": {
          "base_uri": "https://localhost:8080/",
          "height": 171
        },
        "id": "GctTIw7wedi6",
        "outputId": "2ef05b36-c90b-44ce-abc0-b3a7e20e822a"
      },
      "source": [
        "class Person:\n",
        "    def __init__(self, n, s, q = 1):\n",
        "        self.name = n\n",
        "        self.surname = s\n",
        "        self.skill = q\n",
        "    def __del__(self):\n",
        "        print(\"До свидания, мистер\", self.name, self.surname)\n",
        "    def info(self):\n",
        "        return \"{0} {1}, {2}\".format(self.name, self.surname, self.skill)\n",
        "worker = Person(\"И.\", \"Котов\", 3)\n",
        "helper = Person(\"Д.\", \"Мышев\", 1)\n",
        "maker = Person(\"О.\", \"Рисов\", 2)\n",
        "print(worker.info())\n",
        "print(helper.info())\n",
        "print(maker.info())\n",
        "del helper\n",
        "print(\"Конец программы\")\n",
        "input()\n"
      ],
      "execution_count": null,
      "outputs": [
        {
          "name": "stdout",
          "output_type": "stream",
          "text": [
            "До свидания, мистер И. Котов\n",
            "До свидания, мистер О. Рисов\n",
            "И. Котов, 3\n",
            "Д. Мышев, 1\n",
            "О. Рисов, 2\n",
            "До свидания, мистер Д. Мышев\n",
            "Конец программы\n",
            "\n"
          ]
        },
        {
          "output_type": "execute_result",
          "data": {
            "application/vnd.google.colaboratory.intrinsic+json": {
              "type": "string"
            },
            "text/plain": [
              "''"
            ]
          },
          "metadata": {},
          "execution_count": 6
        }
      ]
    },
    {
      "cell_type": "code",
      "metadata": {
        "id": "dKC6nZ10jJof"
      },
      "source": [
        "class Student:\n",
        "    def __init__(self, fio, bd, univer, gender,  number, mail, speciality,grade,group = \"ADEU-211\"):\n",
        "        self.fio = fio\n",
        "        self.bd = bd\n",
        "        self.univer = univer\n",
        "        self.gender = gender\n",
        "        self.grade = grade\n",
        "        self.group = group\n",
        "        self.number = number\n",
        "        self.mail = mail\n",
        "        self.speciality = speciality\n",
        "    def __del__(self):\n",
        "        print('Отчислен студент -',self.fio,self.grade)\n",
        "    def info(self): \n",
        "        return \"{0} - {1},{2},{3},{4},{5},{6},{7},{8}\".format(self.fio,self.bd,self.gender,self.univer,self.number,self.mail,self.speciality,self.grade,self.group)"
      ],
      "execution_count": null,
      "outputs": []
    },
    {
      "cell_type": "code",
      "metadata": {
        "colab": {
          "base_uri": "https://localhost:8080/"
        },
        "id": "olP6fvI0oSq_",
        "outputId": "8c4c6573-7b82-42ad-b059-82518232507a"
      },
      "source": [
        "stud1=Student('Петров П.П.','4/02/2003','M','MГПУ','88005553535','petr@mail.com','Аналитик', 5)\n",
        "stud2=Student('Иванов И.И.','5/05/2003','М','MГПУ','890546547543','ivan@mail.com','Аналитик', 3)\n",
        "stud3=Student('Алексеев А.А.','6/07/2003','М','MГПУ','89433465345','alex@mail.com','Аналитик', 1)\n",
        "print(stud1.info())\n",
        "print(stud2.info())\n",
        "print(stud3.info())\n",
        "\n",
        "del stud3\n",
        "if stud1.grade<stud2.grade:\n",
        "  print(\"Пока, первый студент\")\n",
        "  del stud1\n",
        "elif stud1.grade>stud2.grade:\n",
        "  print(\"Пока, второй студент\")\n",
        "  del stud2\n",
        "else:\n",
        "  print(\"Молодцы!\")"
      ],
      "execution_count": 59,
      "outputs": [
        {
          "output_type": "stream",
          "name": "stdout",
          "text": [
            "Петров П.П. - 4/02/2003,MГПУ,M,88005553535,petr@mail.com,Аналитик,5,ADEU-211\n",
            "Иванов И.И. - 5/05/2003,MГПУ,М,890546547543,ivan@mail.com,Аналитик,3,ADEU-211\n",
            "Алексеев А.А. - 6/07/2003,MГПУ,М,89433465345,alex@mail.com,Аналитик,1,ADEU-211\n",
            "Отчислен студент - Алексеев А.А. 1\n",
            "Пока, второй студент\n",
            "Отчислен студент - Иванов И.И. 3\n"
          ]
        }
      ]
    }
  ]
}