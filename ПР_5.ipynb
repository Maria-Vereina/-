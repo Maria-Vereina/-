{
  "nbformat": 4,
  "nbformat_minor": 0,
  "metadata": {
    "colab": {
      "name": "ПР_5",
      "provenance": [],
      "authorship_tag": "ABX9TyPOFfKVo+1Ksve4qMYn+7cW",
      "include_colab_link": true
    },
    "kernelspec": {
      "name": "python3",
      "display_name": "Python 3"
    },
    "language_info": {
      "name": "python"
    }
  },
  "cells": [
    {
      "cell_type": "markdown",
      "metadata": {
        "id": "view-in-github",
        "colab_type": "text"
      },
      "source": [
        "<a href=\"https://colab.research.google.com/github/Maria-Vereina/pract/blob/main/%D0%9F%D0%A0_5.ipynb\" target=\"_parent\"><img src=\"https://colab.research.google.com/assets/colab-badge.svg\" alt=\"Open In Colab\"/></a>"
      ]
    },
    {
      "cell_type": "code",
      "source": [
        "class Win_Door:\n",
        "    def __init__(self,x,y):\n",
        "        self.square=x*y\n",
        "\n",
        "import math\n",
        "class Room:\n",
        "    def __init__(self,width,lenght,hight,wd):\n",
        "        self.square=2*hight*(width+lenght)\n",
        "        self.wd=[]\n",
        "    def addWD(self,w,h):\n",
        "        self.wd.append(Win_Door(w,h))\n",
        "    def workSurface(self):\n",
        "        new_square=self.square\n",
        "        for i in self.wd:\n",
        "            new_square-=i.square\n",
        "        return new_square\n",
        "    def rolls(self,rw,rl):\n",
        "       rolls=rw*rl\n",
        "       new_square=self.square\n",
        "       for i in self.wd:\n",
        "          new_square-=i.square\n",
        "       rolls_need=new_square/rolls\n",
        "       return rolls_need\n",
        "        \n",
        "r1=Room(6,3,2.7,0)\n",
        "print(math.ceil(r1.square))\n",
        "r1.addWD(1,1)\n",
        "r1.addWD(1,1)\n",
        "r1.addWD(1,2)\n",
        "print(math.ceil(r1.workSurface()))\n",
        "print(math.ceil(r1.rolls(1,2)))"
      ],
      "metadata": {
        "id": "5t2zk-4JCDoK",
        "colab": {
          "base_uri": "https://localhost:8080/"
        },
        "outputId": "21ac99a7-f224-414e-b852-06403bd2b127"
      },
      "execution_count": null,
      "outputs": [
        {
          "output_type": "stream",
          "name": "stdout",
          "text": [
            "49\n",
            "45\n",
            "23\n"
          ]
        }
      ]
    }
  ]
}