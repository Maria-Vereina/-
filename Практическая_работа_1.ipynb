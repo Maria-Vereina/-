{
  "nbformat": 4,
  "nbformat_minor": 0,
  "metadata": {
    "colab": {
      "name": "Практическая работа 1.ipynb",
      "provenance": [],
      "authorship_tag": "ABX9TyMf8/hkYtul8tVcIO17GMuH",
      "include_colab_link": true
    },
    "kernelspec": {
      "name": "python3",
      "display_name": "Python 3"
    },
    "language_info": {
      "name": "python"
    }
  },
  "cells": [
    {
      "cell_type": "markdown",
      "metadata": {
        "id": "view-in-github",
        "colab_type": "text"
      },
      "source": [
        "<a href=\"https://colab.research.google.com/github/Maria-Vereina/pract/blob/main/%D0%9F%D1%80%D0%B0%D0%BA%D1%82%D0%B8%D1%87%D0%B5%D1%81%D0%BA%D0%B0%D1%8F_%D1%80%D0%B0%D0%B1%D0%BE%D1%82%D0%B0_1.ipynb\" target=\"_parent\"><img src=\"https://colab.research.google.com/assets/colab-badge.svg\" alt=\"Open In Colab\"/></a>"
      ]
    },
    {
      "cell_type": "code",
      "execution_count": null,
      "metadata": {
        "colab": {
          "base_uri": "https://localhost:8080/"
        },
        "id": "AUfJ0UrYqMgb",
        "outputId": "5de4e35a-542b-46d0-a006-e9d173df49f8"
      },
      "outputs": [
        {
          "output_type": "stream",
          "name": "stdout",
          "text": [
            "red\n",
            "red\n",
            "red!\n",
            "red!\n"
          ]
        }
      ],
      "source": [
        "#Задание 1\n",
        "class First:\n",
        "  color=\"red\"\n",
        "  def out(self):\n",
        "    print(self.color + \"!\")\n",
        "obj1= First( )\n",
        "obj2= First( )\n",
        "print(obj1.color)\n",
        "print(obj2.color)\n",
        "obj1.out()\n",
        "obj2.out()"
      ]
    },
    {
      "cell_type": "code",
      "source": [
        "#Задание 2\n",
        "class Second:\n",
        "  color=\"red\"\n",
        "  form=\"circle\"\n",
        "  size=25\n",
        "\n",
        "  def changecolor (self, newcolor):\n",
        "    self.color = newcolor\n",
        "  def changeform (self, newform):\n",
        "    self.form = newform\n",
        "  def changesize (self, newsize):\n",
        "    self.size = newsize\n",
        "obj1 = Second()\n",
        "obj2 = Second()\n",
        "obj3 = Second()\n",
        "print(obj1.color, obj1.form, obj1.size)\n",
        "print(obj2.color, obj2.form, obj2.size)\n",
        "print(obj3.color, obj3.form, obj3.size)\n",
        "obj1.changecolor=(\"green\")\n",
        "obj2.changecolor=(\"blue\")\n",
        "obj2.changeform=(\"oval\")\n",
        "obj3.changecolor=(\"white\")\n",
        "obj3.changeform=(\"triangle\")\n",
        "obj3.changesize= 30\n",
        "print(obj1.changecolor, obj1.form, obj1.size)\n",
        "print(obj2.changecolor, obj2.changeform, obj2.size)\n",
        "print(obj3.changecolor, obj3.changeform, obj3.changesize)"
      ],
      "metadata": {
        "colab": {
          "base_uri": "https://localhost:8080/"
        },
        "id": "TVTs5YtXsILs",
        "outputId": "135b9f7a-7392-4faf-e876-527190d5bfcc"
      },
      "execution_count": null,
      "outputs": [
        {
          "output_type": "stream",
          "name": "stdout",
          "text": [
            "red circle 25\n",
            "red circle 25\n",
            "red circle 25\n",
            "green circle 25\n",
            "blue oval 25\n",
            "white triangle 30\n"
          ]
        }
      ]
    },
    {
      "cell_type": "code",
      "source": [
        "#Задание 3\n",
        "class YesInit:\n",
        "  def __init__(self,one,two):\n",
        "    self.fname=one\n",
        "    self.sname=two\n",
        "obj1= YesInit(\"Peter\", \"Ok\")\n",
        "print(obj1.fname, obj1.sname)\n",
        "class NoInit:\n",
        "  def names(self,one,two):\n",
        "    self.fname=one\n",
        "    self.sname=two\n",
        "obj1=NoInit()\n",
        "obj1.names(\"Peter\",\"Ok\")\n",
        "print(obj1.fname, obj1.sname)"
      ],
      "metadata": {
        "colab": {
          "base_uri": "https://localhost:8080/"
        },
        "id": "sf4mlXrquhaD",
        "outputId": "73cccda8-0151-42ef-8525-042f1a8e5cb4"
      },
      "execution_count": null,
      "outputs": [
        {
          "output_type": "stream",
          "name": "stdout",
          "text": [
            "Peter Ok\n",
            "Peter Ok\n"
          ]
        }
      ]
    },
    {
      "cell_type": "code",
      "source": [
        "#Задание 4\n",
        "class YesInit:\n",
        "  def __init__(self,one=\"noname\",two=\"nonametoo\"):\n",
        "    self.fname=one\n",
        "    self.sname=two\n",
        "obj1=YesInit(\"Sacha\",\"Tu\")\n",
        "obj2=YesInit()\n",
        "obj3=YesInit(\"Spartak\")\n",
        "obj4=YesInit(two=\"Harry\")\n",
        "print(obj1.fname, obj1.sname)\n",
        "print(obj2.fname, obj2.sname)\n",
        "print(obj3.fname, obj3.sname)\n",
        "print(obj4.fname, obj4.sname)"
      ],
      "metadata": {
        "colab": {
          "base_uri": "https://localhost:8080/"
        },
        "id": "1eCgDna6utPi",
        "outputId": "8bfb9cc5-69da-4160-f4c8-ad5c519f74dd"
      },
      "execution_count": null,
      "outputs": [
        {
          "output_type": "stream",
          "name": "stdout",
          "text": [
            "Sacha Tu\n",
            "noname nonametoo\n",
            "Spartak nonametoo\n",
            "noname Harry\n"
          ]
        }
      ]
    },
    {
      "cell_type": "code",
      "source": [
        "#Задание 5\n",
        "class fruits:\n",
        "  def __init__(self,w,n=0):\n",
        "    self.what=w\n",
        "    self.numbers=n\n",
        "\n",
        "f1=fruits(\"apple\",150)\n",
        "f2=fruits(\"pineapple\")\n",
        "\n",
        "print(f1.what, f1.numbers)\n",
        "print(f2.what, f2.numbers)\n",
        "\n",
        "class banan(fruits):\n",
        "  def __init__(self,w,c,n):\n",
        "     super(). __init__(w)\n",
        "     self.color = c\n",
        "     self.numbers=n\n",
        "    \n",
        "f3=banan(\"banan\",\"white\", 150)  \n",
        "print(f3.color, f3.numbers)"
      ],
      "metadata": {
        "colab": {
          "base_uri": "https://localhost:8080/"
        },
        "id": "cVIUhmmXvasa",
        "outputId": "1a3bfe2f-eb19-4277-9454-f87620ca4e50"
      },
      "execution_count": null,
      "outputs": [
        {
          "output_type": "stream",
          "name": "stdout",
          "text": [
            "apple 150\n",
            "pineapple 0\n",
            "white 150\n"
          ]
        }
      ]
    },
    {
      "cell_type": "code",
      "source": [
        "#Задание 6\n",
        "class Building:\n",
        "  def __init__(self, w,c,n=0):\n",
        "    self.what=w\n",
        "    self.color=c\n",
        "    self.numbers=n\n",
        "    self.mwhere(n)\n",
        " \n",
        "  def mwhere(self,n):\n",
        "   if n<=0:\n",
        "     self.where=\"отсутствуют\"\n",
        "   elif 0<n<100:\n",
        "     self.where=\"малый склад\"\n",
        "   else:\n",
        "     self.where=\"основной склад\"\n",
        "  def plus(self,p):\n",
        "   self.numbers=self.numbers+p\n",
        "   self.mwhere(self.numbers)\n",
        "  def minus(self,m):\n",
        "   self.numbers=self.numbers-m\n",
        "   self.mwhere(self.numbers)\n",
        "m1=Building(\"доски\",\"белые\",50)\n",
        "m2=Building(\"доски\",\"коричневые\",300)\n",
        "m3=Building(\"кирпичи\",\"белые\")\n",
        "print(m1.what,m1.color,m1.where)\n",
        "print(m2.what,m2.color,m2.where)\n",
        "print(m3.what,m3.color,m3.where)\n",
        "m1.plus(500)\n",
        "print(m1.numbers,m1.where)"
      ],
      "metadata": {
        "colab": {
          "base_uri": "https://localhost:8080/"
        },
        "id": "KAnfCH-avrEa",
        "outputId": "c8bae8d7-1723-483b-fa3a-fe3d13057e91"
      },
      "execution_count": null,
      "outputs": [
        {
          "output_type": "stream",
          "name": "stdout",
          "text": [
            "доски белые малый склад\n",
            "доски коричневые основной склад\n",
            "кирпичи белые отсутствуют\n",
            "550 основной склад\n"
          ]
        }
      ]
    },
    {
      "cell_type": "code",
      "source": [
        "#Задание 7\n",
        "class Things:\n",
        "  def __init__(self,n,t):\n",
        "    self.namething=n\n",
        "    self.total=t\n",
        "th1=Things(\"table\",5)\n",
        "th2=Things(\"computer\",7)\n",
        "\n",
        "print(th1.namething,th1.total)\n",
        "print(th2.namething,th2.total)\n",
        "\n",
        "th1.color=\"green\"\n",
        "th2.color=\"blue\"\n",
        "\n",
        "print(th1.color)\n",
        "print(th2.color)"
      ],
      "metadata": {
        "colab": {
          "base_uri": "https://localhost:8080/"
        },
        "id": "hWQaSObUyzvn",
        "outputId": "e0f588ea-9319-4b7f-cbaa-16a637c359f0"
      },
      "execution_count": null,
      "outputs": [
        {
          "output_type": "stream",
          "name": "stdout",
          "text": [
            "table 5\n",
            "computer 7\n",
            "green\n",
            "blue\n"
          ]
        }
      ]
    },
    {
      "cell_type": "code",
      "source": [
        "#Задание 8\n",
        "class Table:\n",
        "  def __init__ (self,l,w,h):\n",
        "    self.long=l\n",
        "    self.widght=w\n",
        "    self.height=h\n",
        "  def outing(self):\n",
        "    print(self.long, self.widght, self.height)\n",
        "class Kitchen (Table):\n",
        "  def howplaces(self,n):\n",
        "    if n<2:\n",
        "      print(\"It is not kitchen table\")\n",
        "    else:\n",
        "      self.places=n\n",
        "  def outplaces(self):\n",
        "    print(self.places)\n",
        "class Worker(Table):\n",
        "  def __init__(self,t,p):\n",
        "    self.time=t\n",
        "    self.payment=p\n",
        "  def outing(self):\n",
        "    print(self.time, self.payment)\n",
        "  def work(self,t):\n",
        "    if t>10:\n",
        "      wor1=Worker(13,230)\n",
        "      print(wor1.time,wor1.payment)\n",
        "    else:\n",
        "      print(none)\n",
        "  def payment(self,p):\n",
        "     if p>200:\n",
        "       print(\"Hight price\")\n",
        "     else:\n",
        "       print(\"Normal price\")\n",
        "wor1= Worker(8,120)\n",
        "wor2= Worker(13,230)\n",
        "wor1.outing()\n",
        "wor2.outing()\n",
        "t_room1= Kitchen(2,1,0.5)\n",
        "t_room1.outing()\n",
        "t_room1.howplaces(5)\n",
        "t_room1.outplaces()\n",
        "\n",
        "t_2=Table(1,3,0.7)\n",
        "t_2.outing()\n",
        "t_2.howplaces(8)#ошибка"
      ],
      "metadata": {
        "id": "l6rfGiH1y27X"
      },
      "execution_count": null,
      "outputs": []
    },
    {
      "cell_type": "code",
      "source": [
        "#Практическая\n",
        "class Figure:\n",
        "  color=\"white\"\n",
        "class oval(Figure):\n",
        "  def __init__(self,s,v, color = \"white\"):\n",
        "    self.size=s\n",
        "    self.volume=v\n",
        "    self.color=color\n",
        "    super(Figure,self). __init__()\n",
        "  def changesize (self,newsize):\n",
        "    self.size = newsize\n",
        "  def changevolume (self,newvolume):\n",
        "    self.volume = newvolume\n",
        "class Square(Figure):\n",
        "  def __init__(self,s,color1 = \"white\"):\n",
        "    self.sor = s\n",
        "    self.color1=color1\n",
        "  def changecolor (self,newcolor1):\n",
        "    self.color1 = newcolor1\n",
        "  def changesor (self, newsor):\n",
        "    self.sor = newsor\n",
        "obj1 = oval(15,10,\"Red\")\n",
        "obj2 = Square(12)\n",
        "print(obj1.size, obj1.volume, obj1.color)\n",
        "print(obj2.sor, obj2.color1)\n"
      ],
      "metadata": {
        "colab": {
          "base_uri": "https://localhost:8080/"
        },
        "id": "uZIhhcHNzitn",
        "outputId": "cd566953-dbd4-4835-cbf8-e01fd5d57562"
      },
      "execution_count": 1,
      "outputs": [
        {
          "output_type": "stream",
          "name": "stdout",
          "text": [
            "15 10 Red\n",
            "12 white\n"
          ]
        }
      ]
    }
  ]
}