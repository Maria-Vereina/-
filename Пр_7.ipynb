{
  "nbformat": 4,
  "nbformat_minor": 0,
  "metadata": {
    "colab": {
      "name": "Пр_7",
      "provenance": [],
      "authorship_tag": "ABX9TyNa+PSUaQsH4rtJC7aVp0mA",
      "include_colab_link": true
    },
    "kernelspec": {
      "name": "python3",
      "display_name": "Python 3"
    },
    "language_info": {
      "name": "python"
    }
  },
  "cells": [
    {
      "cell_type": "markdown",
      "metadata": {
        "id": "view-in-github",
        "colab_type": "text"
      },
      "source": [
        "<a href=\"https://colab.research.google.com/github/Maria-Vereina/pract/blob/main/%D0%9F%D1%80_7.ipynb\" target=\"_parent\"><img src=\"https://colab.research.google.com/assets/colab-badge.svg\" alt=\"Open In Colab\"/></a>"
      ]
    },
    {
      "cell_type": "code",
      "source": [
        "class A:\n",
        "    def meth():\n",
        "            print('meth')\n",
        "\n",
        "A.meth()\n",
        "\n",
        "#a=A()\n",
        "#a.meth()\n",
        "\n",
        "#b=10\n",
        "#b.meth()"
      ],
      "metadata": {
        "colab": {
          "base_uri": "https://localhost:8080/"
        },
        "id": "RyYKLeY48_HG",
        "outputId": "fcce311e-eed0-40c6-e79d-29305fad9dac"
      },
      "execution_count": 1,
      "outputs": [
        {
          "output_type": "stream",
          "name": "stdout",
          "text": [
            "meth\n"
          ]
        }
      ]
    },
    {
      "cell_type": "code",
      "source": [
        "class A:\n",
        "  @staticmethod\n",
        "  def meth(value):\n",
        "          print(value)\n",
        "\n",
        "a = A()\n",
        "a.meth(1)\n",
        "A.meth('hello')"
      ],
      "metadata": {
        "colab": {
          "base_uri": "https://localhost:8080/"
        },
        "id": "qDU3Qpol9BEK",
        "outputId": "6ebddf94-5937-4631-dc51-a1a576ae8533"
      },
      "execution_count": 2,
      "outputs": [
        {
          "output_type": "stream",
          "name": "stdout",
          "text": [
            "1\n",
            "hello\n"
          ]
        }
      ]
    },
    {
      "cell_type": "code",
      "source": [
        "from math import pi\n",
        "class Cylinder:\n",
        "    @staticmethod\n",
        "    def make_area(d, h):\n",
        "        circle = pi* d ** 2/4\n",
        "        side = pi * d * h\n",
        "        return round(circle*2 + side, 2)\n",
        "    def __init__(self, diametr, high):\n",
        "        self.dia = diametr\n",
        "        self.h = high\n",
        "        self.area = self.make_area(diametr, high)\n",
        "\n",
        "a = Cylinder(1,2)\n",
        "print(a.area)\n",
        "print(a.make_area(2, 2))"
      ],
      "metadata": {
        "colab": {
          "base_uri": "https://localhost:8080/"
        },
        "id": "SWGPjRJ-9JWO",
        "outputId": "7c9ff39c-0b04-496e-f380-3e77cb77df05"
      },
      "execution_count": 3,
      "outputs": [
        {
          "output_type": "stream",
          "name": "stdout",
          "text": [
            "7.85\n",
            "18.85\n"
          ]
        }
      ]
    },
    {
      "cell_type": "code",
      "source": [
        "from math import pi\n",
        "class Cylinder:\n",
        "    @staticmethod\n",
        "    def make_area(d, h):\n",
        "        circle = pi* d ** 2/4\n",
        "        side = pi * d * h\n",
        "        return round(circle*2 + side, 2)\n",
        "    def __init__(self, diametr, high):\n",
        "        self.__dict__['dia'] = diametr\n",
        "        self.__dict__['h'] = high\n",
        "        self.__dict__['area'] = self.make_area(diametr, high)\n",
        "    def __setattr__(self, key, value):\n",
        "        if key == 'dia':\n",
        "            self.__dict__['dia'] = value\n",
        "            self.__dict__['area'] = self.make_area(self.__dict__['dia'], self.__dict__['h'])\n",
        "        elif key == 'h':\n",
        "            self.__dict__['h'] = value\n",
        "            self.__dict__['area'] = self.make_area(self.__dict__['dia'], self.__dict__['h'])\n",
        "        elif key == 'area':\n",
        "            print('Нельзя изменять площадь напрямую!')"
      ],
      "metadata": {
        "id": "vYfiv8uD9K4L"
      },
      "execution_count": 4,
      "outputs": []
    },
    {
      "cell_type": "code",
      "source": [
        "a = Cylinder(1,2)\n",
        "print(a.dia, a.h, a.area)\n",
        "a.dia = 4.5\n",
        "a.h = 3.3\n",
        "print(a.dia, a.h, a.area)\n",
        "#Не позволено\n",
        "a.area = 100\n",
        "print(a.area)\n",
        "print(a.__dict__)"
      ],
      "metadata": {
        "colab": {
          "base_uri": "https://localhost:8080/"
        },
        "id": "NhblPDm29d98",
        "outputId": "a51da0b4-1ef4-4b49-c474-910749379146"
      },
      "execution_count": 5,
      "outputs": [
        {
          "output_type": "stream",
          "name": "stdout",
          "text": [
            "1 2 7.85\n",
            "4.5 3.3 78.46\n",
            "Нельзя изменять площадь напрямую!\n",
            "78.46\n",
            "{'dia': 4.5, 'h': 3.3, 'area': 78.46}\n"
          ]
        }
      ]
    },
    {
      "cell_type": "code",
      "execution_count": 6,
      "metadata": {
        "id": "BqzweIEu_qJa",
        "colab": {
          "base_uri": "https://localhost:8080/"
        },
        "outputId": "de208646-aeab-4beb-abbe-596e27d72878"
      },
      "outputs": [
        {
          "output_type": "stream",
          "name": "stdout",
          "text": [
            "{'HP': 128, 'MP': 42, 'SP': 100, 'Strength': 15, 'Perception': 4, 'Endurance': 8, 'Charisma': 2, 'Intelligence': 3, 'Agility': 8, 'Luck': 1}\n",
            "[]\n",
            "{'HP': 128, 'MP': 42, 'SP': 100, 'Strength': 13, 'Perception': 2, 'Endurance': 6, 'Charisma': 0, 'Intelligence': 1, 'Agility': 6, 'Luck': -1}\n",
            "['Curse']\n",
            "{'HP': 128, 'MP': 42, 'SP': 100, 'Strength': 15, 'Perception': 4, 'Endurance': 8, 'Charisma': 2, 'Intelligence': 3, 'Agility': 8, 'Luck': -9}\n",
            "['EvilEye']\n"
          ]
        }
      ],
      "source": [
        "#Задача 1\n",
        "from abc import ABC, abstractmethod\n",
        "class Hero:\n",
        "    def __init__(self):\n",
        "        self.positive_effects = []\n",
        "        self.negative_effects = []\n",
        "        self.stats = {\n",
        "            \"HP\": 128,\n",
        "            \"MP\": 42,\n",
        "            \"SP\": 100,\n",
        "            \"Strength\": 15,\n",
        "            \"Perception\": 4,\n",
        "            \"Endurance\": 8,\n",
        "            \"Charisma\": 2,\n",
        "            \"Intelligence\": 3,\n",
        "            \"Agility\": 8,\n",
        "            \"Luck\": 1\n",
        "        }\n",
        "\n",
        "    def get_positive_effects(self):\n",
        "        return self.positive_effects.copy()\n",
        "\n",
        "    def get_negative_effects(self):\n",
        "        return self.negative_effects.copy()\n",
        "\n",
        "    def get_stats(self):\n",
        "        return self.stats.copy()\n",
        "        \n",
        "class AbstractEffect(Hero, ABC):\n",
        "    def __init__(self, base):\n",
        "        self.base = base\n",
        "\n",
        "    @abstractmethod\n",
        "    def get_positive_effects(self):\n",
        "        return self.positive_effects\n",
        "\n",
        "    @abstractmethod\n",
        "    def get_negative_effects(self):\n",
        "        return self.negative_effects\n",
        "\n",
        "    @abstractmethod\n",
        "    def get_stats(self):\n",
        "        pass\n",
        "\n",
        "\n",
        "class AbstractPositive(AbstractEffect):\n",
        "    def get_negative_effects(self):\n",
        "        return self.base.get_negative_effects()\n",
        "\n",
        "\n",
        "class AbstractNegative(AbstractEffect):\n",
        "    def get_positive_effects(self):\n",
        "        return self.base.get_positive_effects()\n",
        "\n",
        "\n",
        "class Berserk(AbstractPositive):\n",
        "    def get_stats(self):\n",
        "        stats = self.base.get_stats()\n",
        "        stats[\"HP\"] += 50\n",
        "        stats[\"Strength\"] += 7\n",
        "        stats[\"Endurance\"] += 7\n",
        "        stats[\"Agility\"] += 7\n",
        "        stats[\"Luck\"] += 7\n",
        "        stats[\"Perception\"] -= 3\n",
        "        stats[\"Charisma\"] -= 3\n",
        "        stats[\"Intelligence\"] -= 3\n",
        "        return stats\n",
        "\n",
        "    def get_positive_effects(self):\n",
        "        return self.base.get_positive_effects() + [\"Berserk\"]\n",
        "\n",
        "\n",
        "class Blessing(AbstractPositive):\n",
        "    def get_stats(self):\n",
        "        stats = self.base.get_stats()\n",
        "        stats[\"Strength\"] += 2\n",
        "        stats[\"Endurance\"] += 2\n",
        "        stats[\"Agility\"] += 2\n",
        "        stats[\"Luck\"] += 2\n",
        "        stats[\"Perception\"] += 2\n",
        "        stats[\"Charisma\"] += 2\n",
        "        stats[\"Intelligence\"] += 2\n",
        "        return stats\n",
        "\n",
        "    def get_positive_effects(self):\n",
        "        return self.base.get_positive_effects() + [\"Blessing\"]\n",
        "\n",
        "\n",
        "class Weakness(AbstractNegative):\n",
        "    def get_stats(self):\n",
        "        stats = self.base.get_stats()\n",
        "        stats[\"Strength\"] -= 4\n",
        "        stats[\"Endurance\"] -= 4\n",
        "        stats[\"Agility\"] -= 4\n",
        "        return stats\n",
        "\n",
        "    def get_negative_effects(self):\n",
        "        return self.base.get_negative_effects() + [\"Weakness\"]\n",
        "\n",
        "\n",
        "class Curse(AbstractNegative):\n",
        "    def get_stats(self):\n",
        "        stats = self.base.get_stats()\n",
        "        stats[\"Strength\"] -= 2\n",
        "        stats[\"Endurance\"] -= 2\n",
        "        stats[\"Agility\"] -= 2\n",
        "        stats[\"Luck\"] -= 2\n",
        "        stats[\"Perception\"] -= 2\n",
        "        stats[\"Charisma\"] -= 2\n",
        "        stats[\"Intelligence\"] -= 2\n",
        "        return stats\n",
        "\n",
        "    def get_negative_effects(self):\n",
        "        return self.base.get_negative_effects() + [\"Curse\"]\n",
        "\n",
        "\n",
        "class EvilEye(AbstractNegative):\n",
        "    def get_stats(self):\n",
        "        stats = self.base.get_stats()\n",
        "        stats[\"Luck\"] -= 10\n",
        "        return stats\n",
        "\n",
        "    def get_negative_effects(self):\n",
        "        return self.base.get_negative_effects() + [\"EvilEye\"]\n",
        "\n",
        "h1 = Hero()\n",
        "print(h1.stats)\n",
        "print(h1.get_negative_effects())\n",
        "\n",
        "Ujas = Curse(h1)\n",
        "Ujas2 = EvilEye(h1)\n",
        "\n",
        "print(Ujas.get_stats())\n",
        "print(Ujas.get_negative_effects())\n",
        "\n",
        "print(Ujas2.get_stats())\n",
        "print(Ujas2.get_negative_effects())"
      ]
    },
    {
      "cell_type": "code",
      "source": [
        "#Задача 2\n",
        "\n",
        "from abc import ABC, abstractmethod\n",
        "\n",
        "class Hero:\n",
        "    def __init__(self, opit, lvl):\n",
        "        self.stats = {\n",
        "            'HP':10,\n",
        "            'MP':20,\n",
        "            'SP':30,\n",
        "        }\n",
        "        self.opit=opit\n",
        "        self.lvl = lvl\n",
        "\n",
        "    def opit_up(self):\n",
        "        self.opit +=10\n",
        "        return self.opit\n",
        "\n",
        "    def lvl_up(self):\n",
        "        stats = self.get_stats()\n",
        "        self.lvl += 1\n",
        "        stats['HP'] += 10\n",
        "        stats['MP'] += 10\n",
        "        stats['SP'] += 10\n",
        "        return self.lvl, 'уровень', stats\n",
        "\n",
        "    def get_stats(self):\n",
        "        return self.stats.copy()\n",
        "\n",
        "    def can(self):\n",
        "        if h1.opit >=20:\n",
        "            print(h1.lvl_up())\n",
        "            ach.subscribe(plushka)\n",
        "            ach.notify('Вы заслужили награду! Ваши статы увеличились!')\n",
        "            print(plushka.achievements)\n",
        "        return 'Так держать!'\n",
        "\n",
        "\n",
        "class ObservableEngine():\n",
        "    def __init__(self):\n",
        "        self.__subscribers = set()\n",
        "\n",
        "    def subscribe(self, subscriber):\n",
        "        self.__subscribers.add(subscriber)\n",
        "\n",
        "    def unsubscribe(self, subscriber):\n",
        "        self.__subscribers.remove(subscriber)\n",
        "\n",
        "    def notify(self, message):\n",
        "        for subscriber in self.__subscribers:\n",
        "            subscriber.update(message)\n",
        "\n",
        "\n",
        "class AbstractObserver(ABC):\n",
        "    @abstractmethod\n",
        "    def update(self, message):\n",
        "        pass\n",
        "\n",
        "\n",
        "class ShortNotificationPrinter(AbstractObserver):\n",
        "    def __init__(self):\n",
        "        self.achievements = set()\n",
        "\n",
        "    def update(self, message):\n",
        "        self.achievements.add(message['title'])\n",
        "\n",
        "\n",
        "class FullNotificationPrinter(AbstractObserver):\n",
        "    def __init__(self):\n",
        "        self.achievements = list()\n",
        "\n",
        "    def update(self, message):\n",
        "        if message not in self.achievements:\n",
        "            self.achievements.append(message)\n",
        "\n",
        "ach = ObservableEngine()\n",
        "plushka = FullNotificationPrinter()\n",
        "h1=Hero(0,1)\n",
        "print(h1.get_stats())\n",
        "print(h1.lvl, '- уровень')\n",
        "print(h1.can())\n",
        "print(h1.opit_up())\n",
        "print(h1.lvl, '- уровень')\n",
        "print(h1.can())\n",
        "print(h1.opit_up())"
      ],
      "metadata": {
        "id": "3z4hAVcQANQa",
        "outputId": "044f9026-42ee-43d1-e5cc-14d6fa04cd87",
        "colab": {
          "base_uri": "https://localhost:8080/"
        }
      },
      "execution_count": 7,
      "outputs": [
        {
          "output_type": "stream",
          "name": "stdout",
          "text": [
            "{'HP': 10, 'MP': 20, 'SP': 30}\n",
            "1 - уровень\n",
            "Так держать!\n",
            "10\n",
            "1 - уровень\n",
            "Так держать!\n",
            "20\n"
          ]
        }
      ]
    }
  ]
}